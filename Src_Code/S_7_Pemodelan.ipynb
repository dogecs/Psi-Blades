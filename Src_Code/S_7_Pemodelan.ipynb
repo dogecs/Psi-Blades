{
 "cells": [
  {
   "cell_type": "markdown",
   "metadata": {},
   "source": [
    "# Pemodelan"
   ]
  },
  {
   "cell_type": "code",
   "execution_count": 1,
   "metadata": {},
   "outputs": [],
   "source": [
    "#import lib\n",
    "import csv\n",
    "import pandas as pd\n",
    "import numpy as np\n",
    "import string\n",
    "import re\n",
    "import nltk\n",
    "\n",
    "#\n",
    "import matplotlib.pyplot as plt\n",
    "import seaborn as sns"
   ]
  },
  {
   "cell_type": "markdown",
   "metadata": {},
   "source": [
    "# Analisi Sentimen"
   ]
  },
  {
   "cell_type": "markdown",
   "metadata": {},
   "source": [
    "### Source CODE dari\n",
    "https://github.com/commitunuja/analisis-sentimen-naive-bayes-tf-idf/blob/master/.ipynb_checkpoints/Untitled-checkpoint.ipynb"
   ]
  },
  {
   "cell_type": "code",
   "execution_count": 2,
   "metadata": {},
   "outputs": [],
   "source": [
    "# %run S_4_Analisis_sentimen.ipynb"
   ]
  },
  {
   "cell_type": "markdown",
   "metadata": {},
   "source": [
    "# Naive Bayes Classifier in Python KAGGLE\n",
    "https://www.kaggle.com/prashant111/naive-bayes-classifier-in-python"
   ]
  },
  {
   "cell_type": "code",
   "execution_count": 3,
   "metadata": {},
   "outputs": [
    {
     "data": {
      "text/plain": [
       "<bound method IndexOpsMixin.value_counts of 0       positif\n",
       "2       negatif\n",
       "3       negatif\n",
       "4       negatif\n",
       "5       negatif\n",
       "         ...   \n",
       "7059    positif\n",
       "7060    negatif\n",
       "7061    negatif\n",
       "7063    positif\n",
       "7064    positif\n",
       "Name: sentimen, Length: 6528, dtype: object>"
      ]
     },
     "execution_count": 3,
     "metadata": {},
     "output_type": "execute_result"
    }
   ],
   "source": [
    "datax = pd.read_csv('E:\\Program\\[2] Program\\AnSent\\Data\\Data_5_Lex_sen\\Lex_Indihome.csv')\n",
    "\n",
    "# menghapus kolom\n",
    "del datax['Unnamed: 0.1']\n",
    "del datax['Unnamed: 0']\n",
    "# datas = datax.drop(['Unnamed: 0.1', 'Unnamed: 0', 'Data Teks', 'Data Teks_CaseFolding', 'Data Teks_clean_alay', 'Data Teks_Token', 'Data Teks_Stopword', 'Jumlah_polarity'])\n",
    "# data.rename( columns={'Unnamed: 0':'Indeks'}, inplace=True )\n",
    "data = datax.copy()\n",
    "data = data[data.sentimen != 'netral']\n",
    "data['sentimen'].value_counts"
   ]
  },
  {
   "cell_type": "code",
   "execution_count": 4,
   "metadata": {},
   "outputs": [
    {
     "name": "stdout",
     "output_type": "stream",
     "text": [
      "  (0, 5975)\t0.33280346984468734\n",
      "  (0, 6884)\t0.9429962091436722\n",
      "  (1, 6846)\t0.21985935906966791\n",
      "  (1, 7011)\t0.21757430472450523\n",
      "  (1, 1878)\t0.3422580142869826\n",
      "  (1, 5890)\t0.18998351018617643\n",
      "  (1, 3319)\t0.18655472715477978\n",
      "  (1, 2259)\t0.308869271035849\n",
      "  (1, 1782)\t0.25424075294567694\n",
      "  (1, 7953)\t0.3422580142869826\n",
      "  (1, 5920)\t0.10786887867444157\n",
      "  (1, 7889)\t0.5689506431327935\n",
      "  (1, 1822)\t0.32212834514061117\n",
      "  (2, 749)\t0.2513876087361953\n",
      "  (2, 1481)\t0.36385755101852246\n",
      "  (2, 2910)\t0.5912708687273275\n",
      "  (2, 5444)\t0.5198169790818287\n",
      "  (2, 8161)\t0.42965220911031526\n",
      "  (3, 3054)\t0.3352410564408897\n",
      "  (3, 431)\t0.43070207163817975\n",
      "  (3, 1713)\t0.3544509690036628\n",
      "  (3, 5158)\t0.43070207163817975\n",
      "  (3, 3085)\t0.15059930444644506\n",
      "  (3, 7865)\t0.25652823263312396\n",
      "  (3, 4991)\t0.342020812920609\n",
      "  :\t:\n",
      "  (6526, 1286)\t0.2565782496541561\n",
      "  (6526, 4184)\t0.31189628490343535\n",
      "  (6526, 1223)\t0.2565782496541561\n",
      "  (6526, 2288)\t0.2592394983886982\n",
      "  (6526, 4364)\t0.2101543911849387\n",
      "  (6526, 7875)\t0.22266223241194041\n",
      "  (6526, 4611)\t0.22803198044631734\n",
      "  (6526, 4760)\t0.2043182674468887\n",
      "  (6526, 3139)\t0.1794270579925236\n",
      "  (6526, 7425)\t0.37951568663697843\n",
      "  (6526, 6861)\t0.20144389984088182\n",
      "  (6526, 3691)\t0.18819627449184526\n",
      "  (6526, 6825)\t0.1667085978365859\n",
      "  (6526, 4319)\t0.1408845976404042\n",
      "  (6526, 6369)\t0.1754644124232902\n",
      "  (6526, 2743)\t0.10735143046212563\n",
      "  (6526, 7547)\t0.16629103005675883\n",
      "  (6526, 6978)\t0.10699132290967792\n",
      "  (6526, 1687)\t0.12443109148900137\n",
      "  (6526, 3085)\t0.1141488665821213\n",
      "  (6527, 712)\t0.5305057721786947\n",
      "  (6527, 4364)\t0.5093603071633884\n",
      "  (6527, 1756)\t0.5262591908353005\n",
      "  (6527, 4989)\t0.3122532300550989\n",
      "  (6527, 78)\t0.2909723140661974\n"
     ]
    }
   ],
   "source": [
    "from sklearn.feature_extraction.text import CountVectorizer\n",
    "from sklearn.feature_extraction.text import TfidfVectorizer\n",
    "\n",
    "tf = TfidfVectorizer()\n",
    "text_tf = tf.fit_transform(data['Data Teks_Stemming'].astype('U'))\n",
    "print(text_tf)\n",
    "text_tf = tf.fit_transform(data['Data Teks_Stemming'].astype('U')).toarray()"
   ]
  },
  {
   "cell_type": "code",
   "execution_count": 5,
   "metadata": {},
   "outputs": [
    {
     "name": "stdout",
     "output_type": "stream",
     "text": [
      "Banyak data train : 5222\n",
      "Banyak data test  : 1306\n"
     ]
    }
   ],
   "source": [
    "#splitting data\n",
    "from sklearn.model_selection import train_test_split\n",
    "\n",
    "X_train, X_test, y_train, y_test = train_test_split(text_tf, data['sentimen'], test_size=0.2, random_state=42)\n",
    "\n",
    "print('Banyak data train :',len(X_train))\n",
    "print('Banyak data test  :',len(X_test))"
   ]
  },
  {
   "cell_type": "code",
   "execution_count": 6,
   "metadata": {},
   "outputs": [],
   "source": [
    "#Performa algoritma naive bayes \n",
    "from sklearn.naive_bayes import MultinomialNB\n",
    "from sklearn.naive_bayes import GaussianNB\n",
    "from sklearn.metrics import accuracy_score, precision_score, recall_score, f1_score\n",
    "from sklearn.metrics import classification_report\n",
    "from sklearn.metrics import confusion_matrix"
   ]
  },
  {
   "cell_type": "code",
   "execution_count": 7,
   "metadata": {},
   "outputs": [
    {
     "name": "stdout",
     "output_type": "stream",
     "text": [
      "GaussianNB Accuracy : 59.88\n",
      "GaussianNB Precision : 0.63\n",
      "GaussianNB Recall : 0.60\n",
      "GaussianNB f1_float : 0.60\n",
      "confusion matrix: \n",
      " [[423 117]\n",
      " [407 359]]\n",
      "======================================================\n",
      "\n",
      "              precision    recall  f1-score   support\n",
      "\n",
      "     negatif       0.75      0.47      0.58       766\n",
      "     positif       0.51      0.78      0.62       540\n",
      "\n",
      "    accuracy                           0.60      1306\n",
      "   macro avg       0.63      0.63      0.60      1306\n",
      "weighted avg       0.65      0.60      0.59      1306\n",
      "\n"
     ]
    }
   ],
   "source": [
    "clf = GaussianNB()\n",
    "clf.fit(X_train, y_train)\n",
    "predicted = clf.predict(X_test)\n",
    "\n",
    "print ('GaussianNB Accuracy : {:.2f}'.format(accuracy_score(y_test, predicted)*100))\n",
    "print ('GaussianNB Precision : {:.2f}'.format(precision_score(y_test, predicted, average='macro')))\n",
    "print ('GaussianNB Recall : {:.2f}'.format(accuracy_score(y_test, predicted)))\n",
    "print ('GaussianNB f1_float : {:.2f}'.format(accuracy_score(y_test, predicted)))\n",
    "\n",
    "conf = confusion_matrix(y_test, predicted, labels=['positif', 'negatif'])\n",
    "print (f'confusion matrix: \\n {conf}')\n",
    "print ('======================================================\\n')\n",
    "print (classification_report(y_test, predicted, zero_division=0))"
   ]
  },
  {
   "cell_type": "code",
   "execution_count": 8,
   "metadata": {},
   "outputs": [
    {
     "data": {
      "text/plain": [
       "<AxesSubplot:>"
      ]
     },
     "execution_count": 8,
     "metadata": {},
     "output_type": "execute_result"
    },
    {
     "data": {
      "image/png": "[encoded data removed]",
      "text/plain": [
       "<Figure size 432x288 with 2 Axes>"
      ]
     },
     "metadata": {
      "needs_background": "light"
     },
     "output_type": "display_data"
    }
   ],
   "source": [
    "# visualize confusion matrix with seaborn heatmap\n",
    "\n",
    "cm_matrix = pd.DataFrame(data=conf, columns=['Actual Positive:1', 'Actual Negative:0'], \n",
    "                                 index=['Predict Positive:1', 'Predict Negative:0'])\n",
    "\n",
    "sns.heatmap(cm_matrix, annot=True, fmt='d', cmap='YlGnBu')"
   ]
  },
  {
   "cell_type": "code",
   "execution_count": 9,
   "metadata": {},
   "outputs": [
    {
     "name": "stdout",
     "output_type": "stream",
     "text": [
      "MultinomialNB Accuracy : 80.02\n",
      "MultinomialNB Precision : 0.80\n",
      "MultinomialNB Recall : 0.80\n",
      "MultinomialNB f1_float : 0.80\n",
      "confusion matrix: \n",
      " [[369 171]\n",
      " [ 90 676]]\n",
      "======================================================\n",
      "\n",
      "              precision    recall  f1-score   support\n",
      "\n",
      "     negatif       0.80      0.88      0.84       766\n",
      "     positif       0.80      0.68      0.74       540\n",
      "\n",
      "    accuracy                           0.80      1306\n",
      "   macro avg       0.80      0.78      0.79      1306\n",
      "weighted avg       0.80      0.80      0.80      1306\n",
      "\n"
     ]
    }
   ],
   "source": [
    "clf = MultinomialNB()\n",
    "clf.fit(X_train, y_train)\n",
    "predicted = clf.predict(X_test)\n",
    "print ('MultinomialNB Accuracy : {:.2f}'.format(accuracy_score(y_test, predicted)*100))\n",
    "print ('MultinomialNB Precision : {:.2f}'.format(precision_score(y_test, predicted, average='macro')))\n",
    "print ('MultinomialNB Recall : {:.2f}'.format(accuracy_score(y_test, predicted)))\n",
    "print ('MultinomialNB f1_float : {:.2f}'.format(accuracy_score(y_test, predicted)))\n",
    "\n",
    "conf = confusion_matrix(y_test, predicted, labels=['positif', 'negatif'])\n",
    "print (f'confusion matrix: \\n {conf}')\n",
    "print ('======================================================\\n')\n",
    "print (classification_report(y_test, predicted, zero_division=0))"
   ]
  },
  {
   "cell_type": "code",
   "execution_count": 10,
   "metadata": {},
   "outputs": [
    {
     "data": {
      "text/plain": [
       "<AxesSubplot:>"
      ]
     },
     "execution_count": 10,
     "metadata": {},
     "output_type": "execute_result"
    },
    {
     "data": {
      "image/png": "[encoded data removed]",
      "text/plain": [
       "<Figure size 432x288 with 2 Axes>"
      ]
     },
     "metadata": {
      "needs_background": "light"
     },
     "output_type": "display_data"
    }
   ],
   "source": [
    "# visualize confusion matrix with seaborn heatmap\n",
    "\n",
    "cm_matrix = pd.DataFrame(data=conf, columns=['Actual Positive:1', 'Actual Negative:0'], \n",
    "                                 index=['Predict Positive:1', 'Predict Negative:0'])\n",
    "\n",
    "sns.heatmap(cm_matrix, annot=True, fmt='d', cmap='YlGnBu')"
   ]
  }
 ],
 "metadata": {
  "interpreter": {
   "hash": "8da01e5a71448ea74f54d88afa8911010d1d12e23bc7e103d40d5def4a09152c"
  },
  "kernelspec": {
   "display_name": "Python 3.9.7 64-bit",
   "language": "python",
   "name": "python3"
  },
  "language_info": {
   "codemirror_mode": {
    "name": "ipython",
    "version": 3
   },
   "file_extension": ".py",
   "mimetype": "text/x-python",
   "name": "python",
   "nbconvert_exporter": "python",
   "pygments_lexer": "ipython3",
   "version": "3.9.7"
  },
  "orig_nbformat": 4
 },
 "nbformat": 4,
 "nbformat_minor": 2
}
