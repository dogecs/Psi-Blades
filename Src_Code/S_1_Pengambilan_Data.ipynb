{
 "cells": [
  {
   "cell_type": "markdown",
   "metadata": {},
   "source": [
    "# SNSCRAPE\n",
    "### Source Code:\n",
    "#### https://github.com/JustAnotherArchivist/snscrape\n",
    "\n",
    "\n",
    "#### https://medium.com/dataseries/how-to-scrape-millions-of-tweets-using-snscrape-195ee3594721"
   ]
  },
  {
   "cell_type": "code",
   "execution_count": 22,
   "metadata": {},
   "outputs": [],
   "source": [
    "import csv\n",
    "import snscrape.modules.twitter as sntwitter\n",
    "import pandas as pd"
   ]
  },
  {
   "cell_type": "code",
   "execution_count": 23,
   "metadata": {},
   "outputs": [],
   "source": [
    "# Creating list to append tweet data to\n",
    "tweets_list2 = []"
   ]
  },
  {
   "cell_type": "code",
   "execution_count": 24,
   "metadata": {},
   "outputs": [],
   "source": [
    "# Using TwitterSearchScraper to scrape data and append tweets to list\n",
    "for i,tweet in enumerate(sntwitter.TwitterSearchScraper('@FirstMediaCares since:2021-9-1 until:2021-12-1').get_items()):\n",
    "    if i>500000:\n",
    "        break\n",
    "    tweets_list2.append([tweet.date, tweet.user.username, tweet.content])\n",
    "    "
   ]
  },
  {
   "cell_type": "code",
   "execution_count": 25,
   "metadata": {},
   "outputs": [],
   "source": [
    "# Creating a dataframe from the tweets list above\n",
    "tweets_df2 = pd.DataFrame(tweets_list2, columns=['Tanggal', 'User ID', 'Data Teks'])"
   ]
  },
  {
   "cell_type": "code",
   "execution_count": 26,
   "metadata": {},
   "outputs": [
    {
     "data": {
      "text/html": [
       "<div>\n",
       "<style scoped>\n",
       "    .dataframe tbody tr th:only-of-type {\n",
       "        vertical-align: middle;\n",
       "    }\n",
       "\n",
       "    .dataframe tbody tr th {\n",
       "        vertical-align: top;\n",
       "    }\n",
       "\n",
       "    .dataframe thead th {\n",
       "        text-align: right;\n",
       "    }\n",
       "</style>\n",
       "<table border=\"1\" class=\"dataframe\">\n",
       "  <thead>\n",
       "    <tr style=\"text-align: right;\">\n",
       "      <th></th>\n",
       "      <th>Tanggal</th>\n",
       "      <th>User ID</th>\n",
       "      <th>Data Teks</th>\n",
       "    </tr>\n",
       "  </thead>\n",
       "  <tbody>\n",
       "    <tr>\n",
       "      <th>0</th>\n",
       "      <td>2021-11-30 23:51:43+00:00</td>\n",
       "      <td>FirstMediaCares</td>\n",
       "      <td>@yeritwice  Selamat pagi First People. Mohon m...</td>\n",
       "    </tr>\n",
       "    <tr>\n",
       "      <th>1</th>\n",
       "      <td>2021-11-30 23:51:02+00:00</td>\n",
       "      <td>FirstMediaCares</td>\n",
       "      <td>@efuncarlos Hi First People. Mohon maaf atas k...</td>\n",
       "    </tr>\n",
       "    <tr>\n",
       "      <th>2</th>\n",
       "      <td>2021-11-30 23:47:42+00:00</td>\n",
       "      <td>efuncarlos</td>\n",
       "      <td>Min @FirstMediaCares belum jg online?</td>\n",
       "    </tr>\n",
       "    <tr>\n",
       "      <th>3</th>\n",
       "      <td>2021-11-30 23:41:36+00:00</td>\n",
       "      <td>FirstMediaCares</td>\n",
       "      <td>@toscaspringday   Hi First People. Kami sudah ...</td>\n",
       "    </tr>\n",
       "    <tr>\n",
       "      <th>4</th>\n",
       "      <td>2021-11-30 23:41:12+00:00</td>\n",
       "      <td>FirstMediaCares</td>\n",
       "      <td>@Puji01786035  Selamat pagi First People. Moho...</td>\n",
       "    </tr>\n",
       "    <tr>\n",
       "      <th>...</th>\n",
       "      <td>...</td>\n",
       "      <td>...</td>\n",
       "      <td>...</td>\n",
       "    </tr>\n",
       "    <tr>\n",
       "      <th>206622</th>\n",
       "      <td>2021-09-01 00:09:47+00:00</td>\n",
       "      <td>FirstMediaCares</td>\n",
       "      <td>@doy_kimdoyoung Selamat pagi First People moho...</td>\n",
       "    </tr>\n",
       "    <tr>\n",
       "      <th>206623</th>\n",
       "      <td>2021-09-01 00:08:59+00:00</td>\n",
       "      <td>FirstMediaCares</td>\n",
       "      <td>@Desi07508182  Slmt Pagi First People. Mhn maa...</td>\n",
       "    </tr>\n",
       "    <tr>\n",
       "      <th>206624</th>\n",
       "      <td>2021-09-01 00:07:32+00:00</td>\n",
       "      <td>fierswara</td>\n",
       "      <td>@FirstMediaCares 11505142 gimana nih masa kend...</td>\n",
       "    </tr>\n",
       "    <tr>\n",
       "      <th>206625</th>\n",
       "      <td>2021-09-01 00:06:34+00:00</td>\n",
       "      <td>Desi07508182</td>\n",
       "      <td>@FirstMediaCares saya mau tanya kenapa offline...</td>\n",
       "    </tr>\n",
       "    <tr>\n",
       "      <th>206626</th>\n",
       "      <td>2021-09-01 00:06:16+00:00</td>\n",
       "      <td>sassprinkels</td>\n",
       "      <td>@FirstMediaCares tolong dong saya zoom loading...</td>\n",
       "    </tr>\n",
       "  </tbody>\n",
       "</table>\n",
       "<p>206627 rows × 3 columns</p>\n",
       "</div>"
      ],
      "text/plain": [
       "                         Tanggal          User ID  \\\n",
       "0      2021-11-30 23:51:43+00:00  FirstMediaCares   \n",
       "1      2021-11-30 23:51:02+00:00  FirstMediaCares   \n",
       "2      2021-11-30 23:47:42+00:00       efuncarlos   \n",
       "3      2021-11-30 23:41:36+00:00  FirstMediaCares   \n",
       "4      2021-11-30 23:41:12+00:00  FirstMediaCares   \n",
       "...                          ...              ...   \n",
       "206622 2021-09-01 00:09:47+00:00  FirstMediaCares   \n",
       "206623 2021-09-01 00:08:59+00:00  FirstMediaCares   \n",
       "206624 2021-09-01 00:07:32+00:00        fierswara   \n",
       "206625 2021-09-01 00:06:34+00:00     Desi07508182   \n",
       "206626 2021-09-01 00:06:16+00:00     sassprinkels   \n",
       "\n",
       "                                                Data Teks  \n",
       "0       @yeritwice  Selamat pagi First People. Mohon m...  \n",
       "1       @efuncarlos Hi First People. Mohon maaf atas k...  \n",
       "2                   Min @FirstMediaCares belum jg online?  \n",
       "3       @toscaspringday   Hi First People. Kami sudah ...  \n",
       "4       @Puji01786035  Selamat pagi First People. Moho...  \n",
       "...                                                   ...  \n",
       "206622  @doy_kimdoyoung Selamat pagi First People moho...  \n",
       "206623  @Desi07508182  Slmt Pagi First People. Mhn maa...  \n",
       "206624  @FirstMediaCares 11505142 gimana nih masa kend...  \n",
       "206625  @FirstMediaCares saya mau tanya kenapa offline...  \n",
       "206626  @FirstMediaCares tolong dong saya zoom loading...  \n",
       "\n",
       "[206627 rows x 3 columns]"
      ]
     },
     "execution_count": 26,
     "metadata": {},
     "output_type": "execute_result"
    }
   ],
   "source": [
    "tweets_df2.to_csv('E:\\Program\\[2] Program\\AnSent\\Data\\Data_1_Raw\\daraw_191221\\Firstmediacare.csv')\n",
    "tweets_df2"
   ]
  }
 ],
 "metadata": {
  "interpreter": {
   "hash": "8da01e5a71448ea74f54d88afa8911010d1d12e23bc7e103d40d5def4a09152c"
  },
  "kernelspec": {
   "display_name": "Python 3.9.7 64-bit",
   "name": "python3"
  },
  "language_info": {
   "codemirror_mode": {
    "name": "ipython",
    "version": 3
   },
   "file_extension": ".py",
   "mimetype": "text/x-python",
   "name": "python",
   "nbconvert_exporter": "python",
   "pygments_lexer": "ipython3",
   "version": "3.9.7"
  },
  "orig_nbformat": 4
 },
 "nbformat": 4,
 "nbformat_minor": 2
}
